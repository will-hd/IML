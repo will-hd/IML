{
 "cells": [
  {
   "cell_type": "code",
   "execution_count": 1,
   "id": "2510012f-fac4-43ff-9ef4-f73254134910",
   "metadata": {},
   "outputs": [
    {
     "name": "stderr",
     "output_type": "stream",
     "text": [
      "[INFO]: Logging setup completed at 09-08-2024-102718        (utils.py:62 [10:27:18])\n",
      "/home/w/IML/.venv/lib/python3.10/site-packages/tqdm/auto.py:21: TqdmWarning: IProgress not found. Please update jupyter and ipywidgets. See https://ipywidgets.readthedocs.io/en/stable/user_install.html\n",
      "  from .autonotebook import tqdm as notebook_tqdm\n"
     ]
    }
   ],
   "source": [
    "%matplotlib inline\n",
    "%load_ext autoreload\n",
    "%autoreload 2\n",
    "import numpy as np\n",
    "import torch\n",
    "import torch.nn as nn\n",
    "from torch.distributions import Normal\n",
    "from torch.distributions.kl import kl_divergence\n",
    "import sys\n",
    "sys.path.append('..')\n",
    "\n",
    "import logging\n",
    "from src.utils import setup_logging\n",
    "setup_logging(console=True, file=False, debug=True)\n",
    "logger = logging.getLogger(__name__)\n",
    "\n",
    "import pandas as pd\n",
    "from data.tempdata import TempData\n",
    "import matplotlib.pyplot as plt\n",
    "\n",
    "from src.plot import plot_predictive\n",
    "from src.informed_np import InformedNeuralProcess\n",
    "from tqdm import tqdm\n",
    "# from src.loss import ELBOLoss\n",
    "from src.loss import ELBOLoss\n",
    "from src.train import train    "
   ]
  },
  {
   "cell_type": "code",
   "execution_count": null,
   "id": "f6075b33-48ca-4263-9a04-d0e07a10b5e7",
   "metadata": {},
   "outputs": [],
   "source": [
    "DEVICE = torch.device(\"cuda:0\" if torch.cuda.is_available() else \"cpu\")\n",
    "logging.info(f'Using DEVICE: {DEVICE}')\n",
    "\n",
    "USE_KNOWLEDGE = True\n",
    "logging.info(f'USE_KNOWLEDGE: {USE_KNOWLEDGE}')\n",
    "\n",
    "x_dim = 1\n",
    "y_dim = 1\n",
    "determ_dim = 128  # Dimension of representation of context points\n",
    "latent_dim = 128  # Dimension of sampled latent variable\n",
    "hidden_dim = 128  # Dimension of hidden layers in encoder and decoder\n",
    "\n",
    "data_path = '../data/data_with_desc.csv'\n",
    "data = pd.read_csv(data_path, header=None)\n",
    "data = TempData(data=data , max_num_context=10, device=DEVICE)\n",
    "\n",
    "loss_function = ELBOLoss(beta=1, reduction='mean')\n",
    "\n",
    "\n",
    "logging.info(f\"Knowledge Dropout {knowledge_dropout}\")\n",
    "model = InformedNeuralProcess(\n",
    "                        x_dim=x_dim,\n",
    "                        y_dim=y_dim,\n",
    "                        hidden_dim=hidden_dim,\n",
    "                        latent_dim=latent_dim,\n",
    "                        determ_dim=determ_dim,\n",
    "                        knowledge_dim=128,\n",
    "                        mlps_activation=nn.GELU(),\n",
    "                        x_proj_dim=1,\n",
    "                        n_h_layers_x_proj=0,\n",
    "                        n_h_layers_decoder=4,\n",
    "                        n_h_layers_latent_xy_encoder=3,\n",
    "                        n_h_layers_film_latent_encoder=3,\n",
    "                        path='latent',\n",
    "                        train_num_z_samples=4,\n",
    "                        test_num_z_samples=32,\n",
    "                        use_bias=True,\n",
    "                        use_context_in_target=True, # TODO investigate\n",
    "                        use_latent_self_attn=True,\n",
    "                        # use_determ_self_attn=True,\n",
    "                        # use_determ_cross_attn=True,\n",
    "                        use_knowledge=USE_KNOWLEDGE,\n",
    "                        knowledge_dropout=0.3,\n",
    "                        roberta_return_cls=True,\n",
    "                        tune_llm_layer_norms=True,\n",
    "                        freeze_llm=True,\n",
    "                        knowledge_projection_n_h_layers=0,\n",
    "                        knowledge_aggregation_method='FiLM+MLP',\n",
    "                        device='cuda',\n",
    "                        beta=1.0\n",
    "                        ).to(DEVICE)"
   ]
  },
  {
   "cell_type": "code",
   "execution_count": null,
   "id": "002657a9-c523-45a4-9e87-435bbf789906",
   "metadata": {},
   "outputs": [],
   "source": [
    "model.load_state_dict(torch.load(best_model_path))"
   ]
  }
 ],
 "metadata": {
  "kernelspec": {
   "display_name": ".venv",
   "language": "python",
   "name": ".venv"
  },
  "language_info": {
   "codemirror_mode": {
    "name": "ipython",
    "version": 3
   },
   "file_extension": ".py",
   "mimetype": "text/x-python",
   "name": "python",
   "nbconvert_exporter": "python",
   "pygments_lexer": "ipython3",
   "version": "3.10.12"
  }
 },
 "nbformat": 4,
 "nbformat_minor": 5
}
