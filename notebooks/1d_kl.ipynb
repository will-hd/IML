{
 "cells": [
  {
   "cell_type": "code",
   "execution_count": 1,
   "metadata": {},
   "outputs": [],
   "source": [
    "import numpy as np\n",
    "import matplotlib.pyplot as plt\n",
    "import torch\n",
    "%matplotlib inline\n",
    "%load_ext autoreload\n",
    "%autoreload 2\n",
    "\n",
    "device = torch.device(\"cuda\" if torch.cuda.is_available() else \"cpu\")"
   ]
  },
  {
   "cell_type": "code",
   "execution_count": 2,
   "metadata": {},
   "outputs": [],
   "source": [
    "from data_jl import GPData\n",
    "# Sample curves from GPs with varying kernels\n",
    "batch_size = 8\n",
    "max_num_context = 400\n",
    "data_train = GPData(\n",
    "    batch_size=batch_size, \n",
    "    max_num_context=max_num_context\n",
    ")\n",
    "curves_train = data_train.generate_curves()"
   ]
  },
  {
   "cell_type": "code",
   "execution_count": 3,
   "metadata": {},
   "outputs": [
    {
     "data": {
      "image/png": "[encoded data removed]",
      "text/plain": [
       "<Figure size 640x480 with 1 Axes>"
      ]
     },
     "metadata": {},
     "output_type": "display_data"
    }
   ],
   "source": [
    "# Get context and targets\n",
    "context_x_train = curves_train.context_x\n",
    "context_y_train = curves_train.context_y\n",
    "target_x_train = curves_train.target_x\n",
    "target_y_train = curves_train.target_y\n",
    "d_x = context_x_train.shape[2]\n",
    "d_y = context_y_train.shape[2]\n",
    "\n",
    "for i in range(batch_size):\n",
    "    plt.scatter(target_x_train[i].flatten(), target_y_train[i].flatten(), s=2, c='b')\n",
    "    plt.scatter(context_x_train[i].flatten(), context_y_train[i].flatten(), s=2, c='r')\n",
    "    break\n",
    "plt.show()"
   ]
  },
  {
   "cell_type": "code",
   "execution_count": 22,
   "metadata": {},
   "outputs": [],
   "source": [
    "def plot_predictive(context_x, context_y, target_x, target_y, pred_y, sigma, save=None):\n",
    "    '''\n",
    "    Plot predicted mean and variance given context and targets. \n",
    "    '''\n",
    "    context_x = context_x.cpu()\n",
    "    context_y = context_y.cpu()\n",
    "    target_x = target_x.cpu()\n",
    "    target_y = target_y.cpu()\n",
    "    pred_y = pred_y.mean.cpu()\n",
    "    sigma = sigma.cpu()\n",
    "    # Plot ground truth GP\n",
    "    plt.plot(target_x.flatten(), target_y.flatten(), 'k')\n",
    "    # Plot context points\n",
    "    plt.scatter(context_x.flatten(), context_y.flatten(), c='k')\n",
    "    # Plot mean of pred\n",
    "    plt.plot(target_x.flatten(), pred_y.flatten())\n",
    "    # Plot variance of pred\n",
    "    plt.fill_between(\n",
    "        target_x.flatten(),\n",
    "        pred_y.flatten() - sigma.flatten(),\n",
    "        pred_y.flatten() + sigma.flatten(),\n",
    "        alpha=0.5,\n",
    "        facecolor='#A6CEE3',\n",
    "        interpolate=True)\n",
    "    plt.ylim(-4, 4)\n",
    "    plt.show()"
   ]
  },
  {
   "cell_type": "code",
   "execution_count": 23,
   "metadata": {},
   "outputs": [
    {
     "name": "stdout",
     "output_type": "stream",
     "text": [
      "20702\n"
     ]
    }
   ],
   "source": [
    "from np import NeuralProcess\n",
    "# Training params\n",
    "n_epochs = int(1e6)\n",
    "print_after = int(1e4)\n",
    "plot_after = int(1e3)\n",
    "train_loss = []\n",
    "\n",
    "# Data params\n",
    "batch_size = 16\n",
    "max_num_context = 100\n",
    "\n",
    "# Model params\n",
    "input_dim, output_dim = 1,1\n",
    "hidden_size = 128\n",
    "determ_encoder_output_size = [hidden_size] * 2\n",
    "latent_encoder_output_size = [hidden_size] * 2\n",
    "num_latents = hidden_size\n",
    "decoder_output_size = [hidden_size] * 2 + [2 * output_dim]\n",
    "\n",
    "# Model\n",
    "x_dim = 1\n",
    "y_dim = 1\n",
    "r_dim = 50  # Dimension of representation of context points\n",
    "z_dim = 50  # Dimension of sampled latent variable\n",
    "h_dim = 50  # Dimension of hidden layers in encoder and decoder\n",
    "\n",
    "model = NeuralProcess(\n",
    "                x_size = x_dim,\n",
    "                y_size = y_dim,\n",
    "                r_size = r_dim,\n",
    "                z_size = z_dim,\n",
    "                h_size_dec = h_dim,\n",
    "                h_size_enc_lat = h_dim,\n",
    "                h_size_enc_det = h_dim,\n",
    "                N_h_layers_dec = 3,\n",
    "                N_xy_to_si_layers = 2,\n",
    "                N_sc_to_qz_layers = 1,\n",
    "                N_h_layers_enc_det = 6,\n",
    "                use_r = False\n",
    "                ).to(device)\n",
    "print(sum(p.numel() for p in model.parameters() if p.requires_grad))\n",
    "optimizer = torch.optim.Adam(model.parameters(), lr=1e-3)\n"
   ]
  },
  {
   "cell_type": "code",
   "execution_count": 24,
   "metadata": {},
   "outputs": [
    {
     "ename": "TypeError",
     "evalue": "GPData.__init__() got an unexpected keyword argument 'batch_size'",
     "output_type": "error",
     "traceback": [
      "\u001b[0;31m---------------------------------------------------------------------------\u001b[0m",
      "\u001b[0;31mTypeError\u001b[0m                                 Traceback (most recent call last)",
      "Cell \u001b[0;32mIn[24], line 18\u001b[0m\n\u001b[1;32m     15\u001b[0m optimizer\u001b[38;5;241m.\u001b[39mzero_grad()\n\u001b[1;32m     17\u001b[0m \u001b[38;5;66;03m# Sample a batch of datasets (contexts, targets)\u001b[39;00m\n\u001b[0;32m---> 18\u001b[0m data_train \u001b[38;5;241m=\u001b[39m GPData(\n\u001b[1;32m     19\u001b[0m     batch_size\u001b[38;5;241m=\u001b[39mbatch_size, max_num_context\u001b[38;5;241m=\u001b[39mmax_num_context,)\n\u001b[1;32m     20\u001b[0m curves_train \u001b[38;5;241m=\u001b[39m data_train\u001b[38;5;241m.\u001b[39mgenerate_curves()\n\u001b[1;32m     21\u001b[0m context_x_train \u001b[38;5;241m=\u001b[39m curves_train\u001b[38;5;241m.\u001b[39mcontext_x\u001b[38;5;241m.\u001b[39mto(device)\n",
      "\u001b[0;31mTypeError\u001b[0m: GPData.__init__() got an unexpected keyword argument 'batch_size'"
     ]
    }
   ],
   "source": [
    "def loss_function(pred_dist, target_y, posterior, prior):\n",
    "    # print(pred_dist.mean.shape, target_y.shape)\n",
    "    # print(posterior.mean.shape, prior.mean.shape)\n",
    "    num_targets = target_y.size(-2)\n",
    "    # print(pred_dist)\n",
    "    log_p = pred_dist.log_prob(target_y).sum(axis=-1)\n",
    "    # print(f\"log_p: {log_p.shape}\")\n",
    "    kl_div = torch.distributions.kl_divergence(\n",
    "        posterior, prior).sum(axis=-1, keepdim=True)\n",
    "    loss = -torch.mean(log_p - kl_div / num_targets)\n",
    "    return loss\n",
    "\n",
    "model.training = True\n",
    "for it in range(n_epochs+1):\n",
    "    optimizer.zero_grad()\n",
    "\n",
    "    # Sample a batch of datasets (contexts, targets)\n",
    "    data_train = GPData(max_num_context=max_num_context,)\n",
    "    curves_train = data_train.generate_curves(batch_size=8)\n",
    "    context_x_train = curves_train.context_x.to(device)\n",
    "    context_y_train = curves_train.context_y.to(device)\n",
    "    target_x_train = curves_train.target_x.to(device)\n",
    "    target_y_train = curves_train.target_y.to(device)\n",
    "\n",
    "    # Forward\n",
    "    pred_y, posterior, prior = model(\n",
    "        context_x_train, context_y_train,\n",
    "        target_x_train, target_y_train)\n",
    "\n",
    "    # Calculate loss\n",
    "    loss = loss_function(pred_y, target_y_train, posterior, prior)\n",
    "\n",
    "    # Backprop\n",
    "    loss.backward()\n",
    "    optimizer.step()\n",
    "    train_loss.append(loss.item())\n",
    "\n",
    "    if it % print_after == 0:\n",
    "        print(f'Iteration: {it} Training loss: {loss.item()}')\n",
    "\n",
    "    if it % plot_after == 0 and it > 0:\n",
    "        with torch.no_grad():\n",
    "            model.training = False\n",
    "            data_test = GPData(max_num_context=max_num_context, \n",
    "                testing=True)\n",
    "            curves_test = data_test.generate_curves(batch_size=1)\n",
    "            context_x_test = curves_test.context_x.to(device)\n",
    "            context_y_test = curves_test.context_y.to(device)\n",
    "            target_x_test = curves_test.target_x.to(device)\n",
    "            target_y_test = curves_test.target_y.to(device)\n",
    "\n",
    "            pred_y = model(\n",
    "                context_x_test, context_y_test, target_x_test)\n",
    "            plot_predictive(\n",
    "                context_x_test, context_y_test,\n",
    "                target_x_test, target_y_test,\n",
    "                pred_y, pred_y.stddev)\n",
    "            model.training = True"
   ]
  }
 ],
 "metadata": {
  "kernelspec": {
   "display_name": "pt2",
   "language": "python",
   "name": "python3"
  },
  "language_info": {
   "codemirror_mode": {
    "name": "ipython",
    "version": 3
   },
   "file_extension": ".py",
   "mimetype": "text/x-python",
   "name": "python",
   "nbconvert_exporter": "python",
   "pygments_lexer": "ipython3",
   "version": "3.11.5"
  }
 },
 "nbformat": 4,
 "nbformat_minor": 2
}
